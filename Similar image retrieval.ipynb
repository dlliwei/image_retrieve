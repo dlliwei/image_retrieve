{
 "cells": [
  {
   "cell_type": "code",
   "execution_count": 1,
   "metadata": {},
   "outputs": [
    {
     "name": "stdout",
     "output_type": "stream",
     "text": [
      "WARNING:tensorflow:\n",
      "The TensorFlow contrib module will not be included in TensorFlow 2.0.\n",
      "For more information, please see:\n",
      "  * https://github.com/tensorflow/community/blob/master/rfcs/20180907-contrib-sunset.md\n",
      "  * https://github.com/tensorflow/addons\n",
      "  * https://github.com/tensorflow/io (for I/O related ops)\n",
      "If you depend on functionality not listed there, please file an issue.\n",
      "\n"
     ]
    }
   ],
   "source": [
    "%matplotlib inline\n",
    "import tensorflow as tf\n",
    "import numpy as np\n",
    "import matplotlib.pyplot as plt\n",
    "\n",
    "from dataset import MNISTDataset\n",
    "from model import *\n",
    "\n",
    "from scipy.spatial.distance import cdist\n",
    "from matplotlib import gridspec\n",
    "import os\n",
    "import cv2\n",
    "\n",
    "from matplotlib.pyplot import imshow"
   ]
  },
  {
   "cell_type": "code",
   "execution_count": 2,
   "metadata": {},
   "outputs": [
    {
     "name": "stdout",
     "output_type": "stream",
     "text": [
      "===Loading MNIST Dataset===\n",
      "Images train : (60000, 28, 28, 1)\n",
      "Labels train : (60000, 1)\n",
      "Images test  : (10000, 28, 28, 1)\n",
      "Labels test  : (10000,)\n",
      "Unique label : [0 1 2 3 4 5 6 7 8 9]\n"
     ]
    }
   ],
   "source": [
    "dataset = MNISTDataset()\n",
    "train_images = dataset.images_train[:20000]\n",
    "test_images = dataset.images_test\n",
    "len_test = len(test_images)\n",
    "len_train = len(train_images)"
   ]
  },
  {
   "cell_type": "code",
   "execution_count": 3,
   "metadata": {},
   "outputs": [],
   "source": [
    "#helper function to plot image\n",
    "def show_image(idxs, data):\n",
    "    if type(idxs) != np.ndarray:\n",
    "        idxs = np.array([idxs])\n",
    "    fig = plt.figure()\n",
    "    gs = gridspec.GridSpec(1,len(idxs))\n",
    "    for i in range(len(idxs)):\n",
    "        ax = fig.add_subplot(gs[0,i])\n",
    "        ax.imshow(data[idxs[i],:,:,0])\n",
    "        ax.axis('off')\n",
    "    plt.show()"
   ]
  },
  {
   "cell_type": "markdown",
   "metadata": {},
   "source": [
    "## Create the siamese net feature extraction model"
   ]
  },
  {
   "cell_type": "code",
   "execution_count": 4,
   "metadata": {},
   "outputs": [
    {
     "name": "stdout",
     "output_type": "stream",
     "text": [
      "WARNING:tensorflow:From D:\\prj\\demo\\siamesenetwork-tensorflow\\model.py:13: The name tf.variable_scope is deprecated. Please use tf.compat.v1.variable_scope instead.\n",
      "\n",
      "WARNING:tensorflow:From C:\\Anaconda3\\envs\\tf115\\lib\\site-packages\\tensorflow_core\\contrib\\layers\\python\\layers\\layers.py:1057: Layer.apply (from tensorflow.python.keras.engine.base_layer) is deprecated and will be removed in a future version.\n",
      "Instructions for updating:\n",
      "Please use `layer.__call__` method instead.\n",
      "WARNING:tensorflow:From C:\\Anaconda3\\envs\\tf115\\lib\\site-packages\\tensorflow_core\\contrib\\layers\\python\\layers\\layers.py:1634: flatten (from tensorflow.python.layers.core) is deprecated and will be removed in a future version.\n",
      "Instructions for updating:\n",
      "Use keras.layers.flatten instead.\n"
     ]
    }
   ],
   "source": [
    "IMAGE_WIDTH = 28 #28\n",
    "IMAGE_HEIGHT = 28 #28\n",
    "img_placeholder = tf.placeholder(tf.float32, [None, IMAGE_WIDTH, IMAGE_HEIGHT, 1], name='img')\n",
    "net = mnist_model(img_placeholder, reuse=False)"
   ]
  },
  {
   "cell_type": "markdown",
   "metadata": {},
   "source": [
    "## Restore from checkpoint and calc the features from all of train data"
   ]
  },
  {
   "cell_type": "code",
   "execution_count": 5,
   "metadata": {},
   "outputs": [
    {
     "name": "stdout",
     "output_type": "stream",
     "text": [
      "INFO:tensorflow:Restoring parameters from model/model.ckpt\n"
     ]
    }
   ],
   "source": [
    "saver = tf.train.Saver() #保存模型\n",
    "with tf.Session() as sess:\n",
    "    sess.run(tf.global_variables_initializer())\n",
    "    ckpt = tf.train.get_checkpoint_state(\"model\")\n",
    "    saver.restore(sess, \"model/model.ckpt\")\n",
    "    \n",
    "    train_feat = sess.run(net, feed_dict={img_placeholder:train_images[:10000]})      "
   ]
  },
  {
   "cell_type": "markdown",
   "metadata": {},
   "source": [
    "## Searching for similar test images from trainset based on siamese feature"
   ]
  },
  {
   "cell_type": "code",
   "execution_count": 6,
   "metadata": {},
   "outputs": [],
   "source": [
    "#generate new random test image\n",
    "idx = np.random.randint(1, len_test)\n",
    "im = test_images[idx]"
   ]
  },
  {
   "cell_type": "code",
   "execution_count": 7,
   "metadata": {},
   "outputs": [
    {
     "data": {
      "image/png": "[encoded data removed]",
      "text/plain": [
       "<Figure size 432x288 with 1 Axes>"
      ]
     },
     "metadata": {
      "needs_background": "light"
     },
     "output_type": "display_data"
    },
    {
     "name": "stdout",
     "output_type": "stream",
     "text": [
      "This is image from id: 6255\n"
     ]
    }
   ],
   "source": [
    "#show the test image\n",
    "show_image(idx, test_images)\n",
    "print(\"This is image from id:\", idx)"
   ]
  },
  {
   "cell_type": "code",
   "execution_count": 9,
   "metadata": {},
   "outputs": [
    {
     "data": {
      "image/png": "[encoded data removed]",
      "text/plain": [
       "<Figure size 432x288 with 1 Axes>"
      ]
     },
     "metadata": {
      "needs_background": "light"
     },
     "output_type": "display_data"
    }
   ],
   "source": [
    "#im = scipy.misc.imread(os.path.join(\"out\", image_file))\n",
    "#im = input_s[0]\n",
    "#show_image(0, input_s)"
   ]
  },
  {
   "cell_type": "code",
   "execution_count": 8,
   "metadata": {
    "scrolled": true
   },
   "outputs": [
    {
     "name": "stdout",
     "output_type": "stream",
     "text": [
      "INFO:tensorflow:Restoring parameters from model/model.ckpt\n"
     ]
    },
    {
     "data": {
      "image/png": "[encoded data removed]",
      "text/plain": [
       "<Figure size 432x288 with 7 Axes>"
      ]
     },
     "metadata": {
      "needs_background": "light"
     },
     "output_type": "display_data"
    },
    {
     "name": "stdout",
     "output_type": "stream",
     "text": [
      "retrieved ids: [5497 8880 1941 4736 9766 5011 9592]\n"
     ]
    }
   ],
   "source": [
    "#run the test image through the network to get the test features\n",
    "saver = tf.train.Saver()\n",
    "with tf.Session() as sess:\n",
    "    sess.run(tf.global_variables_initializer())\n",
    "    ckpt = tf.train.get_checkpoint_state(\"model\")\n",
    "    saver.restore(sess, \"model/model.ckpt\")\n",
    "    search_feat = sess.run(net, feed_dict={img_placeholder:[im]})\n",
    "    \n",
    "#calculate the cosine similarity and sort\n",
    "dist = cdist(train_feat, search_feat, 'cosine') #cdist 计算两个输入集合的距离\n",
    "rank = np.argsort(dist.ravel())  #np.argsort 将x中的元素从小到大排列，提取其对应的index(索引)\n",
    "\n",
    "#show the top n similar image from train data\n",
    "n = 7\n",
    "show_image(rank[:n], train_images)\n",
    "print(\"retrieved ids:\", rank[:n])"
   ]
  },
  {
   "cell_type": "code",
   "execution_count": null,
   "metadata": {},
   "outputs": [],
   "source": [
    "#liwei add new \n",
    "from PIL import Image\n",
    "def img_transpose(image_path):\n",
    "    # 读取图片转成灰度格式\n",
    "    img = Image.open(image_path).convert('L')\n",
    "    \n",
    "    # resize的过程\n",
    "    if img.size[0] != 28 or img.size[1] != 28:\n",
    "        img = img.resize((28, 28))\n",
    "    \n",
    "    # 暂存像素值的一维数组\n",
    "    arr = []\n",
    "\n",
    "    for i in range(28):\n",
    "        for j in range(28):\n",
    "            # mnist 里的颜色是0代表白色（背景），1.0代表黑色\n",
    "            pixel = 1.0 - float(img.getpixel((j, i)))/255.0\n",
    "            # pixel = 255.0 - float(img.getpixel((j, i))) # 如果是0-255的颜色值\n",
    "            arr.append(pixel)\n",
    "\n",
    "    arr1 = np.array(arr).reshape((1, 28, 28, 1))\n",
    "    #print(str(arr1[0].shape))\n",
    "    return arr1[0]\n",
    "\n",
    "\n",
    "num=1000\n",
    "input_s = np.zeros((num,28,28,1))\n",
    "output_s = np.random.rand(num,1)\n",
    "\n",
    "i = 0\n",
    "for root, dirs, files in os.walk(\"data/\"):\n",
    "    for file in files:\n",
    "        input_s[i] = img_transpose(\"data/\" + file)\n",
    "        i = i+1\n",
    "        \n",
    "        \n",
    "        "
   ]
  }
 ],
 "metadata": {
  "kernelspec": {
   "display_name": "Python 3",
   "language": "python",
   "name": "python3"
  },
  "language_info": {
   "codemirror_mode": {
    "name": "ipython",
    "version": 3
   },
   "file_extension": ".py",
   "mimetype": "text/x-python",
   "name": "python",
   "nbconvert_exporter": "python",
   "pygments_lexer": "ipython3",
   "version": "3.7.5"
  }
 },
 "nbformat": 4,
 "nbformat_minor": 1
}
